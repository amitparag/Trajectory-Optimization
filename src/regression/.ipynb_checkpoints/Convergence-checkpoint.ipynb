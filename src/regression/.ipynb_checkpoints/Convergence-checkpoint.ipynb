{
 "cells": [
  {
   "cell_type": "code",
   "execution_count": 7,
   "metadata": {},
   "outputs": [
    {
     "name": "stdout",
     "output_type": "stream",
     "text": [
      "Overwriting convergence.py\n"
     ]
    }
   ],
   "source": [
    "%%file convergence.py\n",
    "\n",
    "\n",
    "\n",
    "\n",
    "\"\"\"\n",
    "Debugging convergence in Crocoddyl\n",
    "\n",
    "\"\"\"\n",
    "\n",
    "from valueNetwork import *\n",
    "from residualNetwork import *\n",
    "from dataset import Datagen\n",
    "from plotTrajectories import plot_trajectories\n",
    "from terminalUnicycle import ResidualUnicycle\n",
    "import torch\n",
    "import crocoddyl\n",
    "import numpy as np\n",
    "from unicycle_utils import *\n",
    "\n",
    "\n",
    "# ddp.th_stop\n",
    "STOP = 1e-8\n",
    "# Maxiters \n",
    "MAXITERS = 1000\n",
    "\n",
    "\n",
    "# Residual network trained on x ** 2\n",
    "resnet = torch.load(\"rescostNet.pth\")\n",
    "\n",
    "\n",
    "# Random starting position generated from [2.1, 2.1] for x, y and [-2pi, 2pi] for theta\n",
    "#xyz = np.array([np.random.uniform(-2.1, 2.1),\n",
    "#                np.random.uniform(-2.1, 2.1),\n",
    "#                np.random.uniform(-2*np.pi, 2*np.pi)])\n",
    "\n",
    "\n",
    "\n",
    "xyz = np.array([-1.6012128 , -0.6732455 , -2.53071119])\n",
    "\n",
    "\n",
    "model = crocoddyl.ActionModelUnicycle()\n",
    "terminal_model = ResidualUnicycle(resnet)\n",
    "\n",
    "model.costWeights = np.matrix([1,1]).T\n",
    "problem = crocoddyl.ShootingProblem((xyz).T, [ model ] * 30, terminal_model)\n",
    "\n",
    "ddp = crocoddyl.SolverDDP(problem)\n",
    "\n",
    "ddp.setCallbacks([crocoddyl.CallbackLogger(), crocoddyl.CallbackVerbose()])\n",
    "ddp.th_stop = STOP\n",
    "\n",
    "ddp.solve([] , [], MAXITERS)\n",
    "\n",
    "mt = problem.terminalModel\n",
    "dt = problem.terminalData\n",
    "xt = ddp.xs[-1]\n",
    "\n",
    "\n",
    "print(dt.Lxx)\n",
    "print(ddp.iter)"
   ]
  },
  {
   "cell_type": "code",
   "execution_count": null,
   "metadata": {},
   "outputs": [],
   "source": []
  }
 ],
 "metadata": {
  "kernelspec": {
   "display_name": "Python 3",
   "language": "python",
   "name": "python3"
  },
  "language_info": {
   "codemirror_mode": {
    "name": "ipython",
    "version": 3
   },
   "file_extension": ".py",
   "mimetype": "text/x-python",
   "name": "python",
   "nbconvert_exporter": "python",
   "pygments_lexer": "ipython3",
   "version": "3.6.9"
  }
 },
 "nbformat": 4,
 "nbformat_minor": 2
}
