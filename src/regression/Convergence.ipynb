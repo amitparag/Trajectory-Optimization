{
 "cells": [
  {
   "cell_type": "code",
   "execution_count": 9,
   "metadata": {},
   "outputs": [
    {
     "name": "stdout",
     "output_type": "stream",
     "text": [
      "Overwriting convergence.py\n"
     ]
    }
   ],
   "source": [
    "%%file convergence.py\n",
    "\n",
    "\n",
    "\n",
    "\"\"\"\n",
    "Debugging convergence in Crocoddyl\n",
    "\n",
    "\"\"\"\n",
    "\n",
    "from valueNetwork import *\n",
    "from residualNetwork import *\n",
    "from dataset import Datagen\n",
    "from plotTrajectories import plot_trajectories\n",
    "from terminalUnicycle import TerminalUnicycle\n",
    "import torch\n",
    "import crocoddyl\n",
    "import numpy as np\n",
    "from unicycle_utils import *\n",
    "\n",
    "# ddp.th_stop\n",
    "STOP = 1e-8\n",
    "# Maxiters \n",
    "MAXITERS = 1000\n",
    "\n",
    "\n",
    "\n",
    "#fnet = torch.load(\"valueNet.pth\") # Feed Forward net trained on ddp.cost\n",
    "#lnet = torch.load(\"costNet.pth\")  # Feed Forward net trained on x**2\n",
    "rnet = torch.load(\"resNet.pth\")   # Residual net trained on  ddp.cost  \n",
    "\n",
    "\n",
    "# Random starting position generated from [2.1, 2.1] for x, y and [-2pi, 2pi] for theta\n",
    "xyz = np.array([np.random.uniform(-2.1, 2.1),\n",
    "                np.random.uniform(-2.1, 2.1),\n",
    "                np.random.uniform(-2*np.pi, 2*np.pi)])\n",
    "\n",
    "#xyz = np.array([-2., 2.1, -1])\n",
    "\n",
    "\n",
    "model = crocoddyl.ActionModelUnicycle()\n",
    "terminal_model = TerminalUnicycle(rnet)\n",
    "model.costWeights = np.matrix([1,1]).T\n",
    "problem = crocoddyl.ShootingProblem((xyz).T, [ model ] * 30, terminal_model)\n",
    "ddp = crocoddyl.SolverDDP(problem)\n",
    "ddp.setCallbacks([crocoddyl.CallbackLogger(), crocoddyl.CallbackVerbose()])\n",
    "ddp.th_stop = STOP\n",
    "ddp.solve([] , [], MAXITERS)\n",
    "\n",
    "\n",
    "print(ddp.iter)"
   ]
  },
  {
   "cell_type": "code",
   "execution_count": null,
   "metadata": {},
   "outputs": [],
   "source": []
  },
  {
   "cell_type": "code",
   "execution_count": null,
   "metadata": {},
   "outputs": [],
   "source": []
  }
 ],
 "metadata": {
  "kernelspec": {
   "display_name": "Python 3",
   "language": "python",
   "name": "python3"
  },
  "language_info": {
   "codemirror_mode": {
    "name": "ipython",
    "version": 3
   },
   "file_extension": ".py",
   "mimetype": "text/x-python",
   "name": "python",
   "nbconvert_exporter": "python",
   "pygments_lexer": "ipython3",
   "version": "3.6.9"
  }
 },
 "nbformat": 4,
 "nbformat_minor": 2
}
