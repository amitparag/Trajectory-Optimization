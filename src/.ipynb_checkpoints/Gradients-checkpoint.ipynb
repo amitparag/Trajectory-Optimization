{
 "cells": [
  {
   "cell_type": "code",
   "execution_count": 1,
   "metadata": {},
   "outputs": [],
   "source": [
    "%load_ext autoreload\n",
    "%autoreload 2"
   ]
  },
  {
   "cell_type": "code",
   "execution_count": 2,
   "metadata": {},
   "outputs": [],
   "source": [
    "import numpy as np\n",
    "import torch\n",
    "import crocoddyl\n",
    "from dataGenerator import Datagen\n",
    "from generic_net import FeedForwardNet, SquaredNet\n",
    "import matplotlib.pyplot as plt\n",
    "%matplotlib inline"
   ]
  },
  {
   "cell_type": "code",
   "execution_count": 3,
   "metadata": {},
   "outputs": [],
   "source": [
    "def network_diagonals_sq(net, xtest):\n",
    "    \"\"\"\n",
    "    @params:\n",
    "        net   = neural net to be differentiated\n",
    "        xtest = inputs array\n",
    "        \n",
    "    @Return: the diagonal elements, ie Vx[1], Vxx[11]  \n",
    "    \"\"\"\n",
    "    g1, g2 = [], []\n",
    "    jacobian = net.batch_gradient(xtest).detach().numpy()\n",
    "    hessian = net.batch_gauss_hessian(xtest).detach().numpy()\n",
    "    for j, h in zip(jacobian, hessian):\n",
    "        g1.append(j[1])\n",
    "        g2.append(h[1][1])\n",
    "        \n",
    "    return np.array(g1), np.array(g2)\n",
    "\n",
    "def network_diagonals(net, xtest):\n",
    "    \"\"\"\n",
    "    @params:\n",
    "        net   = neural net to be differentiated\n",
    "        xtest = inputs array\n",
    "        \n",
    "    @Return: the diagonal elements, ie Vx[1], Vxx[11]  \n",
    "    \"\"\"\n",
    "    g1, g2 = [], []\n",
    "    jacobian = net.batch_jacobian(xtest).detach().numpy()\n",
    "    hessian = net.batch_hessian(xtest).detach().numpy()\n",
    "    for j, h in zip(jacobian, hessian):\n",
    "        g1.append(j[1])\n",
    "        g2.append(h[1][1])\n",
    "        \n",
    "    return np.array(g1), np.array(g2)\n"
   ]
  },
  {
   "cell_type": "code",
   "execution_count": 4,
   "metadata": {},
   "outputs": [],
   "source": [
    "data = Datagen()\n",
    "fnet  = torch.load(\"fnet.pth\")\n",
    "sqnet = torch.load(\"sqnet.pth\")"
   ]
  },
  {
   "cell_type": "code",
   "execution_count": 5,
   "metadata": {},
   "outputs": [
    {
     "name": "stdout",
     "output_type": "stream",
     "text": [
      "x = 0.99, theta = 0.\n"
     ]
    }
   ],
   "source": [
    "# Array of test data\n",
    "xtest = data.constant_data(constant=0.99)"
   ]
  },
  {
   "cell_type": "code",
   "execution_count": 6,
   "metadata": {},
   "outputs": [
    {
     "name": "stdout",
     "output_type": "stream",
     "text": [
      "Returning value and diagonals of gradient and hessian \n",
      "\n"
     ]
    }
   ],
   "source": [
    "# Get crocoddyl cost, Vx[1], Vxx[11]\n",
    "cost, grad1, grad2 = data.diagonals(xtest)"
   ]
  },
  {
   "cell_type": "code",
   "execution_count": 7,
   "metadata": {},
   "outputs": [
    {
     "ename": "AttributeError",
     "evalue": "'FeedForwardNet' object has no attribute 'batch_gradient'",
     "output_type": "error",
     "traceback": [
      "\u001b[0;31m---------------------------------------------------------------------------\u001b[0m",
      "\u001b[0;31mAttributeError\u001b[0m                            Traceback (most recent call last)",
      "\u001b[0;32m<ipython-input-7-4cb77ec679c5>\u001b[0m in \u001b[0;36m<module>\u001b[0;34m()\u001b[0m\n\u001b[1;32m      2\u001b[0m \u001b[0;31m# Get predicted cost, Vx[1], Vxx[11] for feed forward network\u001b[0m\u001b[0;34m\u001b[0m\u001b[0;34m\u001b[0m\u001b[0;34m\u001b[0m\u001b[0m\n\u001b[1;32m      3\u001b[0m \u001b[0mcost_f\u001b[0m \u001b[0;34m=\u001b[0m \u001b[0mfnet\u001b[0m\u001b[0;34m(\u001b[0m\u001b[0mx_test\u001b[0m\u001b[0;34m)\u001b[0m\u001b[0;34m.\u001b[0m\u001b[0mdetach\u001b[0m\u001b[0;34m(\u001b[0m\u001b[0;34m)\u001b[0m\u001b[0;34m.\u001b[0m\u001b[0mnumpy\u001b[0m\u001b[0;34m(\u001b[0m\u001b[0;34m)\u001b[0m\u001b[0;34m\u001b[0m\u001b[0;34m\u001b[0m\u001b[0m\n\u001b[0;32m----> 4\u001b[0;31m \u001b[0mgrad1_f\u001b[0m\u001b[0;34m,\u001b[0m \u001b[0mgrad2_f\u001b[0m \u001b[0;34m=\u001b[0m \u001b[0mnetwork_diagonals\u001b[0m\u001b[0;34m(\u001b[0m\u001b[0mfnet\u001b[0m\u001b[0;34m,\u001b[0m \u001b[0mx_test\u001b[0m\u001b[0;34m)\u001b[0m\u001b[0;34m\u001b[0m\u001b[0;34m\u001b[0m\u001b[0m\n\u001b[0m\u001b[1;32m      5\u001b[0m \u001b[0;34m\u001b[0m\u001b[0m\n\u001b[1;32m      6\u001b[0m \u001b[0;34m\u001b[0m\u001b[0m\n",
      "\u001b[0;32m<ipython-input-3-45637bab1418>\u001b[0m in \u001b[0;36mnetwork_diagonals\u001b[0;34m(net, xtest)\u001b[0m\n\u001b[1;32m      8\u001b[0m     \"\"\"\n\u001b[1;32m      9\u001b[0m     \u001b[0mg1\u001b[0m\u001b[0;34m,\u001b[0m \u001b[0mg2\u001b[0m \u001b[0;34m=\u001b[0m \u001b[0;34m[\u001b[0m\u001b[0;34m]\u001b[0m\u001b[0;34m,\u001b[0m \u001b[0;34m[\u001b[0m\u001b[0;34m]\u001b[0m\u001b[0;34m\u001b[0m\u001b[0;34m\u001b[0m\u001b[0m\n\u001b[0;32m---> 10\u001b[0;31m     \u001b[0mjacobian\u001b[0m \u001b[0;34m=\u001b[0m \u001b[0mnet\u001b[0m\u001b[0;34m.\u001b[0m\u001b[0mbatch_gradient\u001b[0m\u001b[0;34m(\u001b[0m\u001b[0mxtest\u001b[0m\u001b[0;34m)\u001b[0m\u001b[0;34m.\u001b[0m\u001b[0mdetach\u001b[0m\u001b[0;34m(\u001b[0m\u001b[0;34m)\u001b[0m\u001b[0;34m.\u001b[0m\u001b[0mnumpy\u001b[0m\u001b[0;34m(\u001b[0m\u001b[0;34m)\u001b[0m\u001b[0;34m\u001b[0m\u001b[0;34m\u001b[0m\u001b[0m\n\u001b[0m\u001b[1;32m     11\u001b[0m     \u001b[0mhessian\u001b[0m \u001b[0;34m=\u001b[0m \u001b[0mnet\u001b[0m\u001b[0;34m.\u001b[0m\u001b[0mbatch_gauss_hessian\u001b[0m\u001b[0;34m(\u001b[0m\u001b[0mxtest\u001b[0m\u001b[0;34m)\u001b[0m\u001b[0;34m.\u001b[0m\u001b[0mdetach\u001b[0m\u001b[0;34m(\u001b[0m\u001b[0;34m)\u001b[0m\u001b[0;34m.\u001b[0m\u001b[0mnumpy\u001b[0m\u001b[0;34m(\u001b[0m\u001b[0;34m)\u001b[0m\u001b[0;34m\u001b[0m\u001b[0;34m\u001b[0m\u001b[0m\n\u001b[1;32m     12\u001b[0m     \u001b[0;32mfor\u001b[0m \u001b[0mj\u001b[0m\u001b[0;34m,\u001b[0m \u001b[0mh\u001b[0m \u001b[0;32min\u001b[0m \u001b[0mzip\u001b[0m\u001b[0;34m(\u001b[0m\u001b[0mjacobian\u001b[0m\u001b[0;34m,\u001b[0m \u001b[0mhessian\u001b[0m\u001b[0;34m)\u001b[0m\u001b[0;34m:\u001b[0m\u001b[0;34m\u001b[0m\u001b[0;34m\u001b[0m\u001b[0m\n",
      "\u001b[0;32m/home/amit/.local/lib/python3.6/site-packages/torch/nn/modules/module.py\u001b[0m in \u001b[0;36m__getattr__\u001b[0;34m(self, name)\u001b[0m\n\u001b[1;32m    592\u001b[0m                 \u001b[0;32mreturn\u001b[0m \u001b[0mmodules\u001b[0m\u001b[0;34m[\u001b[0m\u001b[0mname\u001b[0m\u001b[0;34m]\u001b[0m\u001b[0;34m\u001b[0m\u001b[0;34m\u001b[0m\u001b[0m\n\u001b[1;32m    593\u001b[0m         raise AttributeError(\"'{}' object has no attribute '{}'\".format(\n\u001b[0;32m--> 594\u001b[0;31m             type(self).__name__, name))\n\u001b[0m\u001b[1;32m    595\u001b[0m \u001b[0;34m\u001b[0m\u001b[0m\n\u001b[1;32m    596\u001b[0m     \u001b[0;32mdef\u001b[0m \u001b[0m__setattr__\u001b[0m\u001b[0;34m(\u001b[0m\u001b[0mself\u001b[0m\u001b[0;34m,\u001b[0m \u001b[0mname\u001b[0m\u001b[0;34m,\u001b[0m \u001b[0mvalue\u001b[0m\u001b[0;34m)\u001b[0m\u001b[0;34m:\u001b[0m\u001b[0;34m\u001b[0m\u001b[0;34m\u001b[0m\u001b[0m\n",
      "\u001b[0;31mAttributeError\u001b[0m: 'FeedForwardNet' object has no attribute 'batch_gradient'"
     ]
    }
   ],
   "source": [
    "x_test = torch.tensor(xtest, dtype = torch.float32)\n",
    "# Get predicted cost, Vx[1], Vxx[11] for feed forward network\n",
    "cost_f = fnet(x_test).detach().numpy()\n",
    "grad1_f, grad2_f = network_diagonals(fnet, x_test)\n",
    "\n",
    "\n",
    "# Get predicted cost, Vx[1], Vxx[11] for squared network\n",
    "cost_sq = sqnet(x_test).detach().numpy()\n",
    "grad1_sq, grad2_sq = network_diagonals(sqnet, x_test)"
   ]
  },
  {
   "cell_type": "code",
   "execution_count": null,
   "metadata": {},
   "outputs": [],
   "source": [
    "plt.clf()\n",
    "\n",
    "font = {'family': 'serif',\n",
    "        'color':  'darkred',\n",
    "        'weight': 'normal',\n",
    "        'size': 16,\n",
    "        }\n",
    "\n",
    "# Make the figure:\n",
    "\n",
    "fig, axs = plt.subplots(4, 3, figsize=(18, 20), sharex=True)\n",
    "fig.subplots_adjust(left=0.02, bottom=0.2, right=0.95, top=0.94, wspace=0.25)\n",
    "\n",
    "axs[0,0].plot(xtest[:,1], cost)\n",
    "axs[0,1].plot(xtest[:,1], cost_f)\n",
    "axs[0,2].plot(xtest[:,1], cost_sq)\n",
    "\n",
    "\n",
    "axs[1,0].plot(xtest[:,1], grad1)\n",
    "axs[1,1].plot(xtest[:,1], grad1_f)\n",
    "axs[1,2].plot(xtest[:,1], grad1_sq)\n",
    "\n",
    "\n",
    "axs[2,0].plot(xtest[:,1], grad2)\n",
    "axs[2,1].plot(xtest[:,1], grad2_f)\n",
    "axs[2,2].plot(xtest[:,1], grad2_sq)\n",
    "\n",
    "\n",
    "\n",
    "axs[3, 0].plot(xtest[:,1], cost, '--r', label = \"Crocoddyl\")\n",
    "axs[3, 0].plot(xtest[:,1], cost_f, '--b', label = \"FeedForward\")\n",
    "axs[3, 0].plot(xtest[:,1], cost_sq, '--g', label = \"Squared Network\")\n",
    "\n",
    "axs[3, 1].plot(xtest[:,1], grad1, '--r', label = \"Crocoddyl\")\n",
    "axs[3, 1].plot(xtest[:,1], grad1_f, '--b', label = \"FeedForward\")\n",
    "axs[3, 1].plot(xtest[:,1], grad1_sq, '--g', label = \"Squared Network\")\n",
    "\n",
    "axs[3, 2].plot(xtest[:,1], grad2, '--r', label = \"Crocoddyl\")\n",
    "axs[3, 2].plot(xtest[:,1], grad2_f, '--b', label = \"FeedForward\")\n",
    "axs[3, 2].plot(xtest[:,1], grad2_sq, '--g', label = \"Squared Network\")\n",
    "\n",
    "axs[0,0].set_title(\"Crocoddyl\", fontdict=font)\n",
    "axs[0,1].set_title(\"Forward net\", fontdict=font)\n",
    "axs[0,2].set_title(\"Squared Net\", fontdict=font)\n",
    "\n",
    "axs[0,0].set_ylabel(\"Cost\",fontdict=font )\n",
    "axs[1,0].set_ylabel(\"Vx[1]\",fontdict=font )\n",
    "axs[2,0].set_ylabel(\"Vxx[1]\",fontdict=font )\n",
    "\n",
    "\n",
    "axs[3, 0].set_ylabel(\"Cost\", fontdict = font)\n",
    "axs[3, 1].set_ylabel(\"Vx[1]\", fontdict = font)\n",
    "axs[3, 2].set_ylabel(\"Vxx[11]\", fontdict = font)\n",
    "\n",
    "axs[3, 0].legend()\n",
    "axs[3, 1].legend()\n",
    "axs[3, 2].legend()\n"
   ]
  },
  {
   "cell_type": "code",
   "execution_count": null,
   "metadata": {},
   "outputs": [],
   "source": []
  }
 ],
 "metadata": {
  "kernelspec": {
   "display_name": "Python 3",
   "language": "python",
   "name": "python3"
  },
  "language_info": {
   "codemirror_mode": {
    "name": "ipython",
    "version": 3
   },
   "file_extension": ".py",
   "mimetype": "text/x-python",
   "name": "python",
   "nbconvert_exporter": "python",
   "pygments_lexer": "ipython3",
   "version": "3.6.9"
  }
 },
 "nbformat": 4,
 "nbformat_minor": 2
}
